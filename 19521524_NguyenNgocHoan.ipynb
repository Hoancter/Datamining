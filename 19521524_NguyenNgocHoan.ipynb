{
  "cells": [
    {
      "cell_type": "code",
      "execution_count": null,
      "id": "3d262b15",
      "metadata": {
        "id": "3d262b15",
        "outputId": "4f0fcd4f-c918-4977-f5f0-9d3b54109593"
      },
      "outputs": [
        {
          "data": {
            "text/plain": [
              "2"
            ]
          },
          "execution_count": 2,
          "metadata": {},
          "output_type": "execute_result"
        }
      ],
      "source": [
        "1+1\n"
      ]
    },
    {
      "cell_type": "code",
      "execution_count": null,
      "id": "39f8da37",
      "metadata": {
        "id": "39f8da37",
        "outputId": "f314b2a8-2bd1-4d5e-e352-b238bb718fc4"
      },
      "outputs": [
        {
          "data": {
            "text/plain": [
              "3"
            ]
          },
          "execution_count": 3,
          "metadata": {},
          "output_type": "execute_result"
        }
      ],
      "source": [
        "1*3"
      ]
    },
    {
      "cell_type": "code",
      "execution_count": null,
      "id": "4ffbf688",
      "metadata": {
        "id": "4ffbf688",
        "outputId": "609b1d67-ad70-4270-c1ab-2ca96dab995a"
      },
      "outputs": [
        {
          "data": {
            "text/plain": [
              "0.5"
            ]
          },
          "execution_count": 4,
          "metadata": {},
          "output_type": "execute_result"
        }
      ],
      "source": [
        "1/2"
      ]
    },
    {
      "cell_type": "code",
      "execution_count": null,
      "id": "65e846d8",
      "metadata": {
        "id": "65e846d8",
        "outputId": "3f17e9fc-cefa-461c-aa76-b353ea1ddf94"
      },
      "outputs": [
        {
          "data": {
            "text/plain": [
              "16"
            ]
          },
          "execution_count": 5,
          "metadata": {},
          "output_type": "execute_result"
        }
      ],
      "source": [
        "2**4"
      ]
    },
    {
      "cell_type": "code",
      "execution_count": null,
      "id": "a3886ebe",
      "metadata": {
        "id": "a3886ebe",
        "outputId": "0aded307-2d61-4d2d-f7a7-d09e99753935"
      },
      "outputs": [
        {
          "data": {
            "text/plain": [
              "0"
            ]
          },
          "execution_count": 6,
          "metadata": {},
          "output_type": "execute_result"
        }
      ],
      "source": [
        "4%2"
      ]
    },
    {
      "cell_type": "code",
      "execution_count": null,
      "id": "739ed991",
      "metadata": {
        "id": "739ed991",
        "outputId": "fccb9d75-fcb0-44d6-d527-9fe6ca7c55a0"
      },
      "outputs": [
        {
          "data": {
            "text/plain": [
              "1"
            ]
          },
          "execution_count": 7,
          "metadata": {},
          "output_type": "execute_result"
        }
      ],
      "source": [
        "5%2"
      ]
    },
    {
      "cell_type": "code",
      "execution_count": null,
      "id": "9d8fca09",
      "metadata": {
        "id": "9d8fca09",
        "outputId": "6db2a71e-6727-4e07-b7c2-e124480ce1a4"
      },
      "outputs": [
        {
          "data": {
            "text/plain": [
              "50"
            ]
          },
          "execution_count": 8,
          "metadata": {},
          "output_type": "execute_result"
        }
      ],
      "source": [
        "(2+3)*(5+5)"
      ]
    },
    {
      "cell_type": "code",
      "execution_count": null,
      "id": "5eff5cea",
      "metadata": {
        "id": "5eff5cea"
      },
      "outputs": [],
      "source": [
        "x=2\n",
        "y=3"
      ]
    },
    {
      "cell_type": "code",
      "execution_count": null,
      "id": "ec1ad185",
      "metadata": {
        "id": "ec1ad185"
      },
      "outputs": [],
      "source": [
        "z=x+y"
      ]
    },
    {
      "cell_type": "code",
      "execution_count": null,
      "id": "c8a461dd",
      "metadata": {
        "id": "c8a461dd",
        "outputId": "4a1521fe-e67c-4a11-da71-c85668afcf42"
      },
      "outputs": [
        {
          "data": {
            "text/plain": [
              "5"
            ]
          },
          "execution_count": 11,
          "metadata": {},
          "output_type": "execute_result"
        }
      ],
      "source": [
        "z"
      ]
    },
    {
      "cell_type": "code",
      "execution_count": null,
      "id": "8ac4ee7c",
      "metadata": {
        "id": "8ac4ee7c",
        "outputId": "b3af4c0f-0e29-46ac-d0db-011ae791c7cb"
      },
      "outputs": [
        {
          "data": {
            "text/plain": [
              "'hello'"
            ]
          },
          "execution_count": 12,
          "metadata": {},
          "output_type": "execute_result"
        }
      ],
      "source": [
        "'hello'"
      ]
    },
    {
      "cell_type": "code",
      "execution_count": null,
      "id": "91e528c9",
      "metadata": {
        "id": "91e528c9",
        "outputId": "7dd7cf81-b207-4e67-a5bd-587a239e8c7b"
      },
      "outputs": [
        {
          "data": {
            "text/plain": [
              "'hello'"
            ]
          },
          "execution_count": 13,
          "metadata": {},
          "output_type": "execute_result"
        }
      ],
      "source": [
        "\"hello\""
      ]
    },
    {
      "cell_type": "code",
      "execution_count": null,
      "id": "bf14382f",
      "metadata": {
        "id": "bf14382f",
        "outputId": "a9250ee2-c7fd-42d4-a13a-4556bc783506"
      },
      "outputs": [
        {
          "data": {
            "text/plain": [
              "\"wrap lot's of qrotes\""
            ]
          },
          "execution_count": 14,
          "metadata": {},
          "output_type": "execute_result"
        }
      ],
      "source": [
        "\"wrap lot's of qrotes\""
      ]
    },
    {
      "cell_type": "code",
      "execution_count": null,
      "id": "fb8ea466",
      "metadata": {
        "id": "fb8ea466"
      },
      "outputs": [],
      "source": [
        "x='hello'"
      ]
    },
    {
      "cell_type": "code",
      "execution_count": null,
      "id": "791953be",
      "metadata": {
        "id": "791953be",
        "outputId": "970c55e6-7388-4ebd-cb79-c6ef7936ca0f"
      },
      "outputs": [
        {
          "data": {
            "text/plain": [
              "'hello'"
            ]
          },
          "execution_count": 16,
          "metadata": {},
          "output_type": "execute_result"
        }
      ],
      "source": [
        "x\n"
      ]
    },
    {
      "cell_type": "code",
      "execution_count": null,
      "id": "873aebb8",
      "metadata": {
        "id": "873aebb8",
        "outputId": "7ae3580d-e29f-4b02-e5f4-b915ffe55609"
      },
      "outputs": [
        {
          "name": "stdout",
          "output_type": "stream",
          "text": [
            "hello\n"
          ]
        }
      ],
      "source": [
        "print(x)"
      ]
    },
    {
      "cell_type": "code",
      "execution_count": null,
      "id": "827c1b4e",
      "metadata": {
        "id": "827c1b4e"
      },
      "outputs": [],
      "source": [
        "num=12\n",
        "name ='HIeu'"
      ]
    },
    {
      "cell_type": "code",
      "execution_count": null,
      "id": "9550a833",
      "metadata": {
        "id": "9550a833",
        "outputId": "5f15a50b-2249-4121-d282-485f8c27daf3"
      },
      "outputs": [
        {
          "name": "stdout",
          "output_type": "stream",
          "text": [
            "My name is:12, and my name is: HIeu\n"
          ]
        }
      ],
      "source": [
        "print('My name is:{one}, and my name is: {two}'.format(one=num,two=name))"
      ]
    },
    {
      "cell_type": "code",
      "execution_count": null,
      "id": "b8abd5e8",
      "metadata": {
        "id": "b8abd5e8",
        "outputId": "3ecd5393-f080-409f-d315-6b5d39f21dea"
      },
      "outputs": [
        {
          "name": "stdout",
          "output_type": "stream",
          "text": [
            "My name is:12, and my name is: HIeu\n"
          ]
        }
      ],
      "source": [
        "print('My name is:{}, and my name is: {}'.format(num,name))"
      ]
    },
    {
      "cell_type": "code",
      "execution_count": null,
      "id": "c8653106",
      "metadata": {
        "id": "c8653106",
        "outputId": "02391d4f-ffc4-49eb-ef97-ba0b715c7f66"
      },
      "outputs": [
        {
          "data": {
            "text/plain": [
              "[1, 2, 3]"
            ]
          },
          "execution_count": 22,
          "metadata": {},
          "output_type": "execute_result"
        }
      ],
      "source": [
        "[1,2,3]"
      ]
    },
    {
      "cell_type": "code",
      "execution_count": null,
      "id": "97f5a97b",
      "metadata": {
        "id": "97f5a97b",
        "outputId": "0d746bab-fd17-4d50-fce5-9d8f0c29f69f"
      },
      "outputs": [
        {
          "data": {
            "text/plain": [
              "['hi', 1, [1, 2]]"
            ]
          },
          "execution_count": 23,
          "metadata": {},
          "output_type": "execute_result"
        }
      ],
      "source": [
        "['hi',1,[1,2]]"
      ]
    },
    {
      "cell_type": "code",
      "execution_count": null,
      "id": "91e306d8",
      "metadata": {
        "id": "91e306d8"
      },
      "outputs": [],
      "source": [
        "my_list=['a','b','c']"
      ]
    },
    {
      "cell_type": "code",
      "execution_count": null,
      "id": "edd395c1",
      "metadata": {
        "id": "edd395c1"
      },
      "outputs": [],
      "source": [
        "my_list.append('d')"
      ]
    },
    {
      "cell_type": "code",
      "execution_count": null,
      "id": "d757a144",
      "metadata": {
        "id": "d757a144",
        "outputId": "6a75603a-4b14-4563-e46e-e3ece558a74c"
      },
      "outputs": [
        {
          "data": {
            "text/plain": [
              "['a', 'b', 'c', 'd']"
            ]
          },
          "execution_count": 27,
          "metadata": {},
          "output_type": "execute_result"
        }
      ],
      "source": [
        "my_list"
      ]
    },
    {
      "cell_type": "code",
      "execution_count": null,
      "id": "233447fb",
      "metadata": {
        "id": "233447fb",
        "outputId": "8e4d09f2-df8d-4000-dd3d-46cf388fc473"
      },
      "outputs": [
        {
          "data": {
            "text/plain": [
              "'b'"
            ]
          },
          "execution_count": 28,
          "metadata": {},
          "output_type": "execute_result"
        }
      ],
      "source": [
        "my_list[1]"
      ]
    },
    {
      "cell_type": "code",
      "execution_count": null,
      "id": "16198623",
      "metadata": {
        "id": "16198623",
        "outputId": "c9a787d8-9def-408d-a7fd-7d8e6deead16"
      },
      "outputs": [
        {
          "data": {
            "text/plain": [
              "['b', 'c', 'd']"
            ]
          },
          "execution_count": 29,
          "metadata": {},
          "output_type": "execute_result"
        }
      ],
      "source": [
        "my_list[1:]"
      ]
    },
    {
      "cell_type": "code",
      "execution_count": null,
      "id": "4309d5de",
      "metadata": {
        "id": "4309d5de",
        "outputId": "b64eca15-242c-4b19-f79a-053b0c1f79ea"
      },
      "outputs": [
        {
          "data": {
            "text/plain": [
              "['a']"
            ]
          },
          "execution_count": 30,
          "metadata": {},
          "output_type": "execute_result"
        }
      ],
      "source": [
        "my_list[:1]"
      ]
    },
    {
      "cell_type": "code",
      "execution_count": null,
      "id": "1dffec78",
      "metadata": {
        "id": "1dffec78"
      },
      "outputs": [],
      "source": [
        "my_list[0]='NEW'"
      ]
    },
    {
      "cell_type": "code",
      "execution_count": null,
      "id": "63a86daf",
      "metadata": {
        "id": "63a86daf",
        "outputId": "c6f22b8f-49e3-4eec-fc80-dddaa8a4e07c"
      },
      "outputs": [
        {
          "data": {
            "text/plain": [
              "['NEW', 'b', 'c', 'd']"
            ]
          },
          "execution_count": 32,
          "metadata": {},
          "output_type": "execute_result"
        }
      ],
      "source": [
        "my_list"
      ]
    },
    {
      "cell_type": "code",
      "execution_count": null,
      "id": "4fb79fe0",
      "metadata": {
        "id": "4fb79fe0"
      },
      "outputs": [],
      "source": [
        "nest=[1,2,3,[4,5,['target']]]"
      ]
    },
    {
      "cell_type": "code",
      "execution_count": null,
      "id": "2799dcbc",
      "metadata": {
        "id": "2799dcbc",
        "outputId": "a9a292a2-377c-43d0-b1f2-6243ad297a55"
      },
      "outputs": [
        {
          "data": {
            "text/plain": [
              "[4, 5, ['target']]"
            ]
          },
          "execution_count": 34,
          "metadata": {},
          "output_type": "execute_result"
        }
      ],
      "source": [
        "nest[3]"
      ]
    },
    {
      "cell_type": "code",
      "execution_count": null,
      "id": "251239cf",
      "metadata": {
        "id": "251239cf",
        "outputId": "c21ee49a-7bc5-4a03-e752-7ec2f1215574"
      },
      "outputs": [
        {
          "data": {
            "text/plain": [
              "['target']"
            ]
          },
          "execution_count": 35,
          "metadata": {},
          "output_type": "execute_result"
        }
      ],
      "source": [
        "nest[3][2]"
      ]
    },
    {
      "cell_type": "code",
      "execution_count": null,
      "id": "78b72c36",
      "metadata": {
        "id": "78b72c36",
        "outputId": "e30fc2ae-9218-48d8-9111-24c0488c5bbd"
      },
      "outputs": [
        {
          "data": {
            "text/plain": [
              "'target'"
            ]
          },
          "execution_count": 36,
          "metadata": {},
          "output_type": "execute_result"
        }
      ],
      "source": [
        "nest[3][2][0]"
      ]
    },
    {
      "cell_type": "code",
      "execution_count": null,
      "id": "63cec30c",
      "metadata": {
        "id": "63cec30c"
      },
      "outputs": [],
      "source": [
        "d={'key1':'item1','key2':'item2'}"
      ]
    },
    {
      "cell_type": "code",
      "execution_count": null,
      "id": "7d1cef9a",
      "metadata": {
        "id": "7d1cef9a",
        "outputId": "90eed9b7-f46f-4e3a-cc95-f1f4a678b2fe"
      },
      "outputs": [
        {
          "data": {
            "text/plain": [
              "{'key1': 'item1', 'key2': 'item2'}"
            ]
          },
          "execution_count": 38,
          "metadata": {},
          "output_type": "execute_result"
        }
      ],
      "source": [
        "d"
      ]
    },
    {
      "cell_type": "code",
      "execution_count": null,
      "id": "17358dab",
      "metadata": {
        "id": "17358dab",
        "outputId": "ccabe6c4-214b-48ea-b838-0aed1a8937bb"
      },
      "outputs": [
        {
          "data": {
            "text/plain": [
              "'item1'"
            ]
          },
          "execution_count": 39,
          "metadata": {},
          "output_type": "execute_result"
        }
      ],
      "source": [
        "d['key1']"
      ]
    },
    {
      "cell_type": "code",
      "execution_count": null,
      "id": "b8b8646c",
      "metadata": {
        "id": "b8b8646c",
        "outputId": "118859df-72cc-4c01-e1a7-7d247a115baa"
      },
      "outputs": [
        {
          "data": {
            "text/plain": [
              "True"
            ]
          },
          "execution_count": 40,
          "metadata": {},
          "output_type": "execute_result"
        }
      ],
      "source": [
        "True"
      ]
    },
    {
      "cell_type": "code",
      "execution_count": null,
      "id": "22a73644",
      "metadata": {
        "id": "22a73644",
        "outputId": "65e124ac-eba9-4a47-e03b-63408f1f34f3"
      },
      "outputs": [
        {
          "data": {
            "text/plain": [
              "False"
            ]
          },
          "execution_count": 41,
          "metadata": {},
          "output_type": "execute_result"
        }
      ],
      "source": [
        "False"
      ]
    },
    {
      "cell_type": "code",
      "execution_count": null,
      "id": "7d830714",
      "metadata": {
        "id": "7d830714"
      },
      "outputs": [],
      "source": [
        "t=(1,2,3)"
      ]
    },
    {
      "cell_type": "code",
      "execution_count": null,
      "id": "95b742c3",
      "metadata": {
        "id": "95b742c3",
        "outputId": "ff714379-fb95-48dc-e826-b2a9e845f664"
      },
      "outputs": [
        {
          "data": {
            "text/plain": [
              "1"
            ]
          },
          "execution_count": 43,
          "metadata": {},
          "output_type": "execute_result"
        }
      ],
      "source": [
        "t[0]"
      ]
    },
    {
      "cell_type": "code",
      "execution_count": null,
      "id": "e1b3e52a",
      "metadata": {
        "id": "e1b3e52a",
        "outputId": "1b547f7b-f1d7-4d6a-86e0-9deff3cdf312"
      },
      "outputs": [
        {
          "ename": "TypeError",
          "evalue": "'tuple' object does not support item assignment",
          "output_type": "error",
          "traceback": [
            "\u001b[1;31m---------------------------------------------------------------------------\u001b[0m",
            "\u001b[1;31mTypeError\u001b[0m                                 Traceback (most recent call last)",
            "\u001b[1;32m~\\AppData\\Local\\Temp\\ipykernel_20072\\756479830.py\u001b[0m in \u001b[0;36m<module>\u001b[1;34m\u001b[0m\n\u001b[1;32m----> 1\u001b[1;33m \u001b[0mt\u001b[0m\u001b[1;33m[\u001b[0m\u001b[1;36m0\u001b[0m\u001b[1;33m]\u001b[0m\u001b[1;33m=\u001b[0m\u001b[1;34m'new'\u001b[0m\u001b[1;33m\u001b[0m\u001b[1;33m\u001b[0m\u001b[0m\n\u001b[0m",
            "\u001b[1;31mTypeError\u001b[0m: 'tuple' object does not support item assignment"
          ]
        }
      ],
      "source": [
        "t[0]='new'"
      ]
    },
    {
      "cell_type": "code",
      "execution_count": null,
      "id": "6f45e3fe",
      "metadata": {
        "id": "6f45e3fe",
        "outputId": "e6f43743-8081-4e47-cf08-e3af07f4709f"
      },
      "outputs": [
        {
          "data": {
            "text/plain": [
              "{1, 2, 3}"
            ]
          },
          "execution_count": 45,
          "metadata": {},
          "output_type": "execute_result"
        }
      ],
      "source": [
        "{1,2,3}"
      ]
    },
    {
      "cell_type": "code",
      "execution_count": null,
      "id": "195b9560",
      "metadata": {
        "id": "195b9560",
        "outputId": "88bdec1a-df68-41c0-e61c-b46b5e767e8a"
      },
      "outputs": [
        {
          "data": {
            "text/plain": [
              "{1, 2, 3}"
            ]
          },
          "execution_count": 46,
          "metadata": {},
          "output_type": "execute_result"
        }
      ],
      "source": [
        "{1,1,2,2,3,3,3,2,1,2,3,3}"
      ]
    },
    {
      "cell_type": "code",
      "execution_count": null,
      "id": "605963bd",
      "metadata": {
        "id": "605963bd",
        "outputId": "b8b60be9-ba35-4d24-a4c8-7ef2e93d53fb"
      },
      "outputs": [
        {
          "data": {
            "text/plain": [
              "False"
            ]
          },
          "execution_count": 47,
          "metadata": {},
          "output_type": "execute_result"
        }
      ],
      "source": [
        "1>2"
      ]
    },
    {
      "cell_type": "code",
      "execution_count": null,
      "id": "312c9dc2",
      "metadata": {
        "id": "312c9dc2",
        "outputId": "f318dad8-7c1d-431e-a0f0-227d87c1ccc4"
      },
      "outputs": [
        {
          "data": {
            "text/plain": [
              "True"
            ]
          },
          "execution_count": 48,
          "metadata": {},
          "output_type": "execute_result"
        }
      ],
      "source": [
        "1<2"
      ]
    },
    {
      "cell_type": "code",
      "execution_count": null,
      "id": "97c09bb5",
      "metadata": {
        "id": "97c09bb5",
        "outputId": "5d2cf174-e452-48c0-f65f-e92706981bb1"
      },
      "outputs": [
        {
          "data": {
            "text/plain": [
              "True"
            ]
          },
          "execution_count": 49,
          "metadata": {},
          "output_type": "execute_result"
        }
      ],
      "source": [
        "1<=1"
      ]
    },
    {
      "cell_type": "code",
      "execution_count": null,
      "id": "6c7a59fc",
      "metadata": {
        "id": "6c7a59fc",
        "outputId": "eba19046-39a7-4c4c-eee3-3331ab5ef827"
      },
      "outputs": [
        {
          "data": {
            "text/plain": [
              "True"
            ]
          },
          "execution_count": 50,
          "metadata": {},
          "output_type": "execute_result"
        }
      ],
      "source": [
        "1==1"
      ]
    },
    {
      "cell_type": "code",
      "execution_count": null,
      "id": "9dad990d",
      "metadata": {
        "id": "9dad990d",
        "outputId": "bd4c6aed-2746-49ce-b53b-0805d0ad3e11"
      },
      "outputs": [
        {
          "data": {
            "text/plain": [
              "False"
            ]
          },
          "execution_count": 51,
          "metadata": {},
          "output_type": "execute_result"
        }
      ],
      "source": [
        "'hi'=='bye'"
      ]
    },
    {
      "cell_type": "code",
      "execution_count": null,
      "id": "fef4489b",
      "metadata": {
        "id": "fef4489b",
        "outputId": "7e988530-29d3-48d2-fce4-66e3b4465c29"
      },
      "outputs": [
        {
          "data": {
            "text/plain": [
              "False"
            ]
          },
          "execution_count": 52,
          "metadata": {},
          "output_type": "execute_result"
        }
      ],
      "source": [
        "(1>2)and(2<3)"
      ]
    },
    {
      "cell_type": "code",
      "execution_count": null,
      "id": "e4b9e8fa",
      "metadata": {
        "id": "e4b9e8fa",
        "outputId": "a4f70cb0-7658-4830-97f6-7f604797d17b"
      },
      "outputs": [
        {
          "data": {
            "text/plain": [
              "True"
            ]
          },
          "execution_count": 53,
          "metadata": {},
          "output_type": "execute_result"
        }
      ],
      "source": [
        "(1>2)or(2<3)"
      ]
    },
    {
      "cell_type": "code",
      "execution_count": null,
      "id": "9c725978",
      "metadata": {
        "id": "9c725978",
        "outputId": "c06f384f-1730-4114-a7ae-37ef4a332684"
      },
      "outputs": [
        {
          "data": {
            "text/plain": [
              "True"
            ]
          },
          "execution_count": 54,
          "metadata": {},
          "output_type": "execute_result"
        }
      ],
      "source": [
        "(1==2)or(2==3)or(4==4)"
      ]
    },
    {
      "cell_type": "code",
      "execution_count": null,
      "id": "026c1ea9",
      "metadata": {
        "id": "026c1ea9",
        "outputId": "98237981-c396-47d6-f1f1-3ae1fbd951aa"
      },
      "outputs": [
        {
          "name": "stdout",
          "output_type": "stream",
          "text": [
            "yep!\n"
          ]
        }
      ],
      "source": [
        "if 1<2:\n",
        "    print('yep!')"
      ]
    },
    {
      "cell_type": "code",
      "execution_count": null,
      "id": "e84c846e",
      "metadata": {
        "id": "e84c846e",
        "outputId": "fa03bcde-5c1a-4fbf-f041-06a60e7a16a2"
      },
      "outputs": [
        {
          "name": "stdout",
          "output_type": "stream",
          "text": [
            "first\n"
          ]
        }
      ],
      "source": [
        "if 1<2:\n",
        "    print('first')\n",
        "else:\n",
        "     print('last')"
      ]
    },
    {
      "cell_type": "code",
      "execution_count": null,
      "id": "2268c937",
      "metadata": {
        "id": "2268c937",
        "outputId": "37d5de5f-dd12-4423-ad23-366e4fb57f66"
      },
      "outputs": [
        {
          "name": "stdout",
          "output_type": "stream",
          "text": [
            "middle\n"
          ]
        }
      ],
      "source": [
        "if 1==2:\n",
        "    print('first')\n",
        "elif 3==3 :\n",
        "     print('middle')\n",
        "else:\n",
        "    print('last')"
      ]
    },
    {
      "cell_type": "code",
      "execution_count": null,
      "id": "fc52b46d",
      "metadata": {
        "id": "fc52b46d"
      },
      "outputs": [],
      "source": [
        "seq=[1,2,3,4,5]"
      ]
    },
    {
      "cell_type": "code",
      "execution_count": null,
      "id": "a59ef2fe",
      "metadata": {
        "id": "a59ef2fe",
        "outputId": "02f7569e-21a0-4a4e-ae48-deb092c8aedc"
      },
      "outputs": [
        {
          "name": "stdout",
          "output_type": "stream",
          "text": [
            "1\n",
            "2\n",
            "3\n",
            "4\n",
            "5\n"
          ]
        }
      ],
      "source": [
        "for item in seq:\n",
        "    print(item)"
      ]
    },
    {
      "cell_type": "code",
      "execution_count": null,
      "id": "7cb8ed3f",
      "metadata": {
        "id": "7cb8ed3f",
        "outputId": "bad4e946-79ce-4685-c728-ea835ec349c0"
      },
      "outputs": [
        {
          "name": "stdout",
          "output_type": "stream",
          "text": [
            "yep!\n",
            "yep!\n",
            "yep!\n",
            "yep!\n",
            "yep!\n"
          ]
        }
      ],
      "source": [
        "for item in seq:\n",
        "    print('yep!')"
      ]
    },
    {
      "cell_type": "code",
      "execution_count": null,
      "id": "4cf199f3",
      "metadata": {
        "id": "4cf199f3",
        "outputId": "8cf93b80-b0c2-402a-de8c-dbaba4aee245"
      },
      "outputs": [
        {
          "name": "stdout",
          "output_type": "stream",
          "text": [
            "2\n",
            "4\n",
            "6\n",
            "8\n",
            "10\n"
          ]
        }
      ],
      "source": [
        "for jelly in seq:\n",
        "    print(jelly+jelly)"
      ]
    },
    {
      "cell_type": "code",
      "execution_count": null,
      "id": "ec4bd39b",
      "metadata": {
        "id": "ec4bd39b",
        "outputId": "12e55793-8a15-4e25-b894-d8ff5f62882b"
      },
      "outputs": [
        {
          "name": "stdout",
          "output_type": "stream",
          "text": [
            "i is:1\n",
            "i is:2\n",
            "i is:3\n",
            "i is:4\n"
          ]
        }
      ],
      "source": [
        "i=1\n",
        "while i<5:\n",
        "    print('i is:{}'.format(i))\n",
        "    i = i+1"
      ]
    },
    {
      "cell_type": "code",
      "execution_count": null,
      "id": "acd9486e",
      "metadata": {
        "id": "acd9486e",
        "outputId": "0542dae1-6920-4233-fb50-71267ff703cd"
      },
      "outputs": [
        {
          "data": {
            "text/plain": [
              "range(0, 5)"
            ]
          },
          "execution_count": 68,
          "metadata": {},
          "output_type": "execute_result"
        }
      ],
      "source": [
        "range(5)"
      ]
    },
    {
      "cell_type": "code",
      "execution_count": null,
      "id": "4f68efe1",
      "metadata": {
        "id": "4f68efe1",
        "outputId": "b597a50d-d6f3-49c8-8859-029eca11d29d"
      },
      "outputs": [
        {
          "name": "stdout",
          "output_type": "stream",
          "text": [
            "0\n",
            "1\n",
            "2\n",
            "3\n",
            "4\n"
          ]
        }
      ],
      "source": [
        "for i in range(5):\n",
        "    print(i)"
      ]
    },
    {
      "cell_type": "code",
      "execution_count": null,
      "id": "fbfe4d4c",
      "metadata": {
        "id": "fbfe4d4c"
      },
      "outputs": [],
      "source": [
        "x=[1,2,3,4]"
      ]
    },
    {
      "cell_type": "code",
      "execution_count": null,
      "id": "225e0e07",
      "metadata": {
        "id": "225e0e07",
        "outputId": "7ecf38ec-6c5d-419c-d304-5669bd2b1342"
      },
      "outputs": [
        {
          "name": "stdout",
          "output_type": "stream",
          "text": [
            "[1, 4, 9, 16]\n"
          ]
        }
      ],
      "source": [
        "out=[]\n",
        "for item in x:\n",
        "    out.append(item**2)\n",
        "print(out)"
      ]
    },
    {
      "cell_type": "code",
      "execution_count": null,
      "id": "936773cf",
      "metadata": {
        "id": "936773cf"
      },
      "outputs": [],
      "source": [
        "def my_func(parml='default'):\n",
        "    \"\"\"\n",
        "    Docstring goes here.\n",
        "    \"\"\"\n",
        "    print(parml)"
      ]
    },
    {
      "cell_type": "code",
      "execution_count": null,
      "id": "6644eb80",
      "metadata": {
        "id": "6644eb80",
        "outputId": "3e488fa1-3b8c-4350-9578-1d0f9ec4e182"
      },
      "outputs": [
        {
          "data": {
            "text/plain": [
              "<function __main__.my_func(parml='default')>"
            ]
          },
          "execution_count": 74,
          "metadata": {},
          "output_type": "execute_result"
        }
      ],
      "source": [
        "my_func"
      ]
    },
    {
      "cell_type": "code",
      "execution_count": null,
      "id": "858ce92d",
      "metadata": {
        "id": "858ce92d",
        "outputId": "2ead8b8a-e229-43e5-fd42-b95563a9de89"
      },
      "outputs": [
        {
          "name": "stdout",
          "output_type": "stream",
          "text": [
            "default\n"
          ]
        }
      ],
      "source": [
        "my_func()"
      ]
    },
    {
      "cell_type": "code",
      "execution_count": null,
      "id": "8a5b49d5",
      "metadata": {
        "id": "8a5b49d5",
        "outputId": "11840b90-5e76-4c7a-de77-faa408386e42"
      },
      "outputs": [
        {
          "name": "stdout",
          "output_type": "stream",
          "text": [
            "new param\n"
          ]
        }
      ],
      "source": [
        "my_func('new param')"
      ]
    },
    {
      "cell_type": "code",
      "execution_count": null,
      "id": "686aa075",
      "metadata": {
        "id": "686aa075",
        "outputId": "ce643db6-6d4b-4c07-c7cf-4b260cf6641d"
      },
      "outputs": [
        {
          "name": "stdout",
          "output_type": "stream",
          "text": [
            "new param\n"
          ]
        }
      ],
      "source": [
        "my_func(parml='new param')"
      ]
    },
    {
      "cell_type": "code",
      "execution_count": null,
      "id": "a1c7714e",
      "metadata": {
        "id": "a1c7714e"
      },
      "outputs": [],
      "source": [
        "def square(x):\n",
        "    return x**2"
      ]
    },
    {
      "cell_type": "code",
      "execution_count": null,
      "id": "f74fba95",
      "metadata": {
        "id": "f74fba95"
      },
      "outputs": [],
      "source": [
        "out=square(2)"
      ]
    },
    {
      "cell_type": "code",
      "execution_count": null,
      "id": "d1fe26d3",
      "metadata": {
        "id": "d1fe26d3",
        "outputId": "37284b6c-5f09-4975-f3f5-7889dca106ea"
      },
      "outputs": [
        {
          "data": {
            "text/plain": [
              "4"
            ]
          },
          "execution_count": 81,
          "metadata": {},
          "output_type": "execute_result"
        }
      ],
      "source": [
        "out"
      ]
    },
    {
      "cell_type": "code",
      "execution_count": null,
      "id": "b3230096",
      "metadata": {
        "id": "b3230096"
      },
      "outputs": [],
      "source": [
        "def times2(var):\n",
        "    return var*2"
      ]
    },
    {
      "cell_type": "code",
      "execution_count": null,
      "id": "3c3ff6cc",
      "metadata": {
        "id": "3c3ff6cc",
        "outputId": "abd8a0d6-b9a1-41ee-fee7-ddb6a06bfc89"
      },
      "outputs": [
        {
          "data": {
            "text/plain": [
              "8"
            ]
          },
          "execution_count": 83,
          "metadata": {},
          "output_type": "execute_result"
        }
      ],
      "source": [
        "times2(4)"
      ]
    },
    {
      "cell_type": "code",
      "execution_count": null,
      "id": "275fe455",
      "metadata": {
        "id": "275fe455",
        "outputId": "c1872477-95e3-4ef6-dcbf-3ff62956424a"
      },
      "outputs": [
        {
          "data": {
            "text/plain": [
              "<function __main__.<lambda>(var)>"
            ]
          },
          "execution_count": 84,
          "metadata": {},
          "output_type": "execute_result"
        }
      ],
      "source": [
        "lambda var: var*2"
      ]
    },
    {
      "cell_type": "code",
      "execution_count": null,
      "id": "7b897b3b",
      "metadata": {
        "id": "7b897b3b"
      },
      "outputs": [],
      "source": [
        "seq = [1,2,3,4,5]"
      ]
    },
    {
      "cell_type": "code",
      "execution_count": null,
      "id": "f7f9049b",
      "metadata": {
        "id": "f7f9049b",
        "outputId": "0dfaa4f1-11f5-45b5-cdd5-587f7a4cbb09"
      },
      "outputs": [
        {
          "data": {
            "text/plain": [
              "<map at 0x1f3faa25c40>"
            ]
          },
          "execution_count": 86,
          "metadata": {},
          "output_type": "execute_result"
        }
      ],
      "source": [
        "map(times2,seq)"
      ]
    },
    {
      "cell_type": "code",
      "execution_count": null,
      "id": "6f5c85bf",
      "metadata": {
        "id": "6f5c85bf",
        "outputId": "5c4910d6-9ac7-4065-a9fe-dfd4d58be72c"
      },
      "outputs": [
        {
          "data": {
            "text/plain": [
              "[2, 4, 6, 8, 10]"
            ]
          },
          "execution_count": 89,
          "metadata": {},
          "output_type": "execute_result"
        }
      ],
      "source": [
        "list(map(times2,seq))"
      ]
    },
    {
      "cell_type": "code",
      "execution_count": null,
      "id": "77f08467",
      "metadata": {
        "id": "77f08467",
        "outputId": "73545ae7-9bde-450d-dd83-aa727a72c42c"
      },
      "outputs": [
        {
          "data": {
            "text/plain": [
              "[2, 4, 6, 8, 10]"
            ]
          },
          "execution_count": 90,
          "metadata": {},
          "output_type": "execute_result"
        }
      ],
      "source": [
        "list(map(lambda var: var*2,seq))"
      ]
    },
    {
      "cell_type": "code",
      "execution_count": null,
      "id": "12e7280d",
      "metadata": {
        "id": "12e7280d",
        "outputId": "cb864e53-7d5e-4b01-d605-483afc6ff319"
      },
      "outputs": [
        {
          "data": {
            "text/plain": [
              "<filter at 0x1f3faa25d00>"
            ]
          },
          "execution_count": 91,
          "metadata": {},
          "output_type": "execute_result"
        }
      ],
      "source": [
        "filter(lambda item: item%2==0,seq)"
      ]
    },
    {
      "cell_type": "code",
      "execution_count": null,
      "id": "08e79fa2",
      "metadata": {
        "id": "08e79fa2",
        "outputId": "e844c6cd-df86-4790-ef3b-f27dc8ca3a9c"
      },
      "outputs": [
        {
          "data": {
            "text/plain": [
              "[2, 4]"
            ]
          },
          "execution_count": 92,
          "metadata": {},
          "output_type": "execute_result"
        }
      ],
      "source": [
        "list(filter(lambda item: item%2==0,seq))"
      ]
    },
    {
      "cell_type": "code",
      "execution_count": null,
      "id": "3595d142",
      "metadata": {
        "id": "3595d142"
      },
      "outputs": [],
      "source": [
        "st = 'hello my name is Hieu'\n"
      ]
    },
    {
      "cell_type": "code",
      "execution_count": null,
      "id": "dd19062a",
      "metadata": {
        "id": "dd19062a",
        "outputId": "9e32cf44-6ba3-44af-d1d1-7ad3ed0f5336"
      },
      "outputs": [
        {
          "data": {
            "text/plain": [
              "'hello my name is hieu'"
            ]
          },
          "execution_count": 94,
          "metadata": {},
          "output_type": "execute_result"
        }
      ],
      "source": [
        "st.lower()"
      ]
    },
    {
      "cell_type": "code",
      "execution_count": null,
      "id": "83538121",
      "metadata": {
        "id": "83538121",
        "outputId": "2c6c41a7-8d84-443f-a331-f8e47a08f77d"
      },
      "outputs": [
        {
          "data": {
            "text/plain": [
              "'HELLO MY NAME IS HIEU'"
            ]
          },
          "execution_count": 95,
          "metadata": {},
          "output_type": "execute_result"
        }
      ],
      "source": [
        "st.upper()"
      ]
    },
    {
      "cell_type": "code",
      "execution_count": null,
      "id": "6906b850",
      "metadata": {
        "id": "6906b850",
        "outputId": "29e9b76f-5cd8-4dad-a64b-39eb9b49a084"
      },
      "outputs": [
        {
          "data": {
            "text/plain": [
              "['hello', 'my', 'name', 'is', 'Hieu']"
            ]
          },
          "execution_count": 96,
          "metadata": {},
          "output_type": "execute_result"
        }
      ],
      "source": [
        "st.split()"
      ]
    },
    {
      "cell_type": "code",
      "execution_count": null,
      "id": "635323f1",
      "metadata": {
        "id": "635323f1"
      },
      "outputs": [],
      "source": [
        "tweet = 'Go Sports! #Sports'"
      ]
    },
    {
      "cell_type": "code",
      "execution_count": null,
      "id": "b90561a3",
      "metadata": {
        "id": "b90561a3",
        "outputId": "9b894a0d-98db-4c36-dd71-c7146ffe0097"
      },
      "outputs": [
        {
          "data": {
            "text/plain": [
              "['Go Sports! ', 'Sports']"
            ]
          },
          "execution_count": 98,
          "metadata": {},
          "output_type": "execute_result"
        }
      ],
      "source": [
        "tweet.split('#')"
      ]
    },
    {
      "cell_type": "code",
      "execution_count": null,
      "id": "223c9032",
      "metadata": {
        "id": "223c9032",
        "outputId": "422cb500-df72-479d-d189-d0d83ae445fa"
      },
      "outputs": [
        {
          "data": {
            "text/plain": [
              "'Sports'"
            ]
          },
          "execution_count": 99,
          "metadata": {},
          "output_type": "execute_result"
        }
      ],
      "source": [
        "tweet.split('#')[1]"
      ]
    },
    {
      "cell_type": "code",
      "execution_count": null,
      "id": "c559b1d5",
      "metadata": {
        "id": "c559b1d5",
        "outputId": "1a89c175-979a-4671-98bd-d05d6bc2641e"
      },
      "outputs": [
        {
          "data": {
            "text/plain": [
              "{'key1': 'item1', 'key2': 'item2'}"
            ]
          },
          "execution_count": 100,
          "metadata": {},
          "output_type": "execute_result"
        }
      ],
      "source": [
        "d"
      ]
    },
    {
      "cell_type": "code",
      "execution_count": null,
      "id": "c56bb236",
      "metadata": {
        "id": "c56bb236",
        "outputId": "74e2633c-bfa6-4f48-a643-6d56e6929781"
      },
      "outputs": [
        {
          "data": {
            "text/plain": [
              "dict_keys(['key1', 'key2'])"
            ]
          },
          "execution_count": 101,
          "metadata": {},
          "output_type": "execute_result"
        }
      ],
      "source": [
        "d.keys()"
      ]
    },
    {
      "cell_type": "code",
      "execution_count": null,
      "id": "752b7ce0",
      "metadata": {
        "id": "752b7ce0",
        "outputId": "0f367745-eabd-4687-8788-12009914273b"
      },
      "outputs": [
        {
          "data": {
            "text/plain": [
              "dict_items([('key1', 'item1'), ('key2', 'item2')])"
            ]
          },
          "execution_count": 102,
          "metadata": {},
          "output_type": "execute_result"
        }
      ],
      "source": [
        "d.items()"
      ]
    },
    {
      "cell_type": "code",
      "execution_count": null,
      "id": "21c02770",
      "metadata": {
        "id": "21c02770"
      },
      "outputs": [],
      "source": [
        "lst=[1,2,3]"
      ]
    },
    {
      "cell_type": "code",
      "execution_count": null,
      "id": "28e5f4d3",
      "metadata": {
        "id": "28e5f4d3",
        "outputId": "b6912fb3-29fa-421b-8869-d7382acfbad3"
      },
      "outputs": [
        {
          "data": {
            "text/plain": [
              "3"
            ]
          },
          "execution_count": 104,
          "metadata": {},
          "output_type": "execute_result"
        }
      ],
      "source": [
        "lst.pop()"
      ]
    },
    {
      "cell_type": "code",
      "execution_count": null,
      "id": "f72e1c04",
      "metadata": {
        "id": "f72e1c04",
        "outputId": "ca6f6cbb-1b42-4075-abbf-86014ca7a8f9"
      },
      "outputs": [
        {
          "data": {
            "text/plain": [
              "[1, 2]"
            ]
          },
          "execution_count": 105,
          "metadata": {},
          "output_type": "execute_result"
        }
      ],
      "source": [
        "lst"
      ]
    },
    {
      "cell_type": "code",
      "execution_count": null,
      "id": "d24ac0de",
      "metadata": {
        "id": "d24ac0de",
        "outputId": "6f728b65-7fbf-47ab-c728-564c1c9fad78"
      },
      "outputs": [
        {
          "data": {
            "text/plain": [
              "False"
            ]
          },
          "execution_count": 106,
          "metadata": {},
          "output_type": "execute_result"
        }
      ],
      "source": [
        "'x'in [1,2,3]"
      ]
    },
    {
      "cell_type": "code",
      "execution_count": null,
      "id": "8cd3e931",
      "metadata": {
        "id": "8cd3e931",
        "outputId": "326140f6-dd8f-4716-9c43-670011e339c5"
      },
      "outputs": [
        {
          "data": {
            "text/plain": [
              "True"
            ]
          },
          "execution_count": 107,
          "metadata": {},
          "output_type": "execute_result"
        }
      ],
      "source": [
        "'x'in ['x','y','z']"
      ]
    },
    {
      "cell_type": "code",
      "execution_count": null,
      "id": "147e973a",
      "metadata": {
        "id": "147e973a"
      },
      "outputs": [],
      "source": []
    }
  ],
  "metadata": {
    "kernelspec": {
      "display_name": "Python 3 (ipykernel)",
      "language": "python",
      "name": "python3"
    },
    "language_info": {
      "codemirror_mode": {
        "name": "ipython",
        "version": 3
      },
      "file_extension": ".py",
      "mimetype": "text/x-python",
      "name": "python",
      "nbconvert_exporter": "python",
      "pygments_lexer": "ipython3",
      "version": "3.9.13"
    },
    "colab": {
      "provenance": []
    }
  },
  "nbformat": 4,
  "nbformat_minor": 5
}