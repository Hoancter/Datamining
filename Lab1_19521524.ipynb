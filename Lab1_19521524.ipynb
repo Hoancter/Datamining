{
 "cells": [
  {
   "cell_type": "code",
   "execution_count": 5,
   "id": "d60535a3",
   "metadata": {},
   "outputs": [
    {
     "data": {
      "text/plain": [
       "2401"
      ]
     },
     "execution_count": 5,
     "metadata": {},
     "output_type": "execute_result"
    }
   ],
   "source": [
    "7**4"
   ]
  },
  {
   "cell_type": "code",
   "execution_count": 6,
   "id": "7e122dd6",
   "metadata": {},
   "outputs": [],
   "source": [
    "s= \"Hi there Sam!\""
   ]
  },
  {
   "cell_type": "code",
   "execution_count": 7,
   "id": "1381cc2e",
   "metadata": {},
   "outputs": [
    {
     "data": {
      "text/plain": [
       "['Hi', 'there', 'Sam!']"
      ]
     },
     "execution_count": 7,
     "metadata": {},
     "output_type": "execute_result"
    }
   ],
   "source": [
    "s.split(\" \")"
   ]
  },
  {
   "cell_type": "code",
   "execution_count": 8,
   "id": "14712bf3",
   "metadata": {},
   "outputs": [],
   "source": [
    "planet=\"Earth\"\n",
    "diameter= 12742"
   ]
  },
  {
   "cell_type": "code",
   "execution_count": 10,
   "id": "9c2dcc7c",
   "metadata": {},
   "outputs": [
    {
     "name": "stdout",
     "output_type": "stream",
     "text": [
      "The diameter of Earth is 12742 kilometers.\n"
     ]
    }
   ],
   "source": [
    "print('The diameter of {} is {} kilometers.'.format(planet,diameter))"
   ]
  },
  {
   "cell_type": "code",
   "execution_count": 11,
   "id": "792c3fc8",
   "metadata": {},
   "outputs": [],
   "source": [
    "lst = [1,2,[3,4],[5,[100,200,['hello']],23,11],1,7]"
   ]
  },
  {
   "cell_type": "code",
   "execution_count": 12,
   "id": "25a2113b",
   "metadata": {},
   "outputs": [
    {
     "data": {
      "text/plain": [
       "'hello'"
      ]
     },
     "execution_count": 12,
     "metadata": {},
     "output_type": "execute_result"
    }
   ],
   "source": [
    "lst[3][1][2][0]"
   ]
  },
  {
   "cell_type": "code",
   "execution_count": 13,
   "id": "69750e26",
   "metadata": {},
   "outputs": [],
   "source": [
    "d = {'k1':[1,2,3,{'tricky':['oh','man','inception',{'target':[1,2,3,'hello']}]}]}"
   ]
  },
  {
   "cell_type": "code",
   "execution_count": 14,
   "id": "2524f56c",
   "metadata": {},
   "outputs": [
    {
     "data": {
      "text/plain": [
       "'hello'"
      ]
     },
     "execution_count": 14,
     "metadata": {},
     "output_type": "execute_result"
    }
   ],
   "source": [
    "d['k1'][3]['tricky'][3]['target'][3]\n"
   ]
  },
  {
   "cell_type": "code",
   "execution_count": 15,
   "id": "8f2582f9",
   "metadata": {},
   "outputs": [],
   "source": [
    "def domainGet(mail):\n",
    "    return mail.split('@')[1]"
   ]
  },
  {
   "cell_type": "code",
   "execution_count": 16,
   "id": "c590bc2d",
   "metadata": {},
   "outputs": [
    {
     "data": {
      "text/plain": [
       "'domain.com'"
      ]
     },
     "execution_count": 16,
     "metadata": {},
     "output_type": "execute_result"
    }
   ],
   "source": [
    "domainGet('user@domain.com')"
   ]
  },
  {
   "cell_type": "code",
   "execution_count": 17,
   "id": "0af87788",
   "metadata": {},
   "outputs": [],
   "source": [
    "def findDog(st):\n",
    "    return 'dog' in st.lower().split()"
   ]
  },
  {
   "cell_type": "code",
   "execution_count": 18,
   "id": "1de8d3c6",
   "metadata": {},
   "outputs": [
    {
     "data": {
      "text/plain": [
       "True"
      ]
     },
     "execution_count": 18,
     "metadata": {},
     "output_type": "execute_result"
    }
   ],
   "source": [
    "findDog('Is there a dog here?')"
   ]
  },
  {
   "cell_type": "code",
   "execution_count": 19,
   "id": "eb77602c",
   "metadata": {},
   "outputs": [],
   "source": [
    "def countDog(st):\n",
    "    dog = 0\n",
    "    for word in st.lower().split():\n",
    "        if word == 'dog':\n",
    "            dog += 1\n",
    "    return dog"
   ]
  },
  {
   "cell_type": "code",
   "execution_count": 20,
   "id": "54d3e034",
   "metadata": {},
   "outputs": [
    {
     "data": {
      "text/plain": [
       "2"
      ]
     },
     "execution_count": 20,
     "metadata": {},
     "output_type": "execute_result"
    }
   ],
   "source": [
    "countDog('This dog runs faster than the other dog dude!')"
   ]
  },
  {
   "cell_type": "code",
   "execution_count": 21,
   "id": "39c08d86",
   "metadata": {},
   "outputs": [],
   "source": [
    "seq = ['soup', 'dog', 'salad', 'cat', 'great']"
   ]
  },
  {
   "cell_type": "code",
   "execution_count": 22,
   "id": "02c4e11b",
   "metadata": {},
   "outputs": [
    {
     "data": {
      "text/plain": [
       "['soup', 'salad']"
      ]
     },
     "execution_count": 22,
     "metadata": {},
     "output_type": "execute_result"
    }
   ],
   "source": [
    "list(filter(lambda item: item[0]=='s',seq))"
   ]
  },
  {
   "cell_type": "code",
   "execution_count": 23,
   "id": "e4a3606b",
   "metadata": {},
   "outputs": [],
   "source": [
    "\n",
    "def caught_speeding(speed, is_birthday):\n",
    "    if is_birthday:\n",
    "        speed = speed -5\n",
    "    if speed > 80:\n",
    "        return 'Big Ticket'\n",
    "    if speed > 60:\n",
    "        return 'Small Ticket'\n",
    "    else:\n",
    "        return 'No Ticket'"
   ]
  },
  {
   "cell_type": "code",
   "execution_count": 24,
   "id": "0e9b43af",
   "metadata": {},
   "outputs": [
    {
     "data": {
      "text/plain": [
       "'Small Ticket'"
      ]
     },
     "execution_count": 24,
     "metadata": {},
     "output_type": "execute_result"
    }
   ],
   "source": [
    "caught_speeding(81,True)"
   ]
  },
  {
   "cell_type": "code",
   "execution_count": 25,
   "id": "6775adce",
   "metadata": {},
   "outputs": [
    {
     "data": {
      "text/plain": [
       "'Big Ticket'"
      ]
     },
     "execution_count": 25,
     "metadata": {},
     "output_type": "execute_result"
    }
   ],
   "source": [
    "caught_speeding(81,False)"
   ]
  }
 ],
 "metadata": {
  "kernelspec": {
   "display_name": "Python 3 (ipykernel)",
   "language": "python",
   "name": "python3"
  },
  "language_info": {
   "codemirror_mode": {
    "name": "ipython",
    "version": 3
   },
   "file_extension": ".py",
   "mimetype": "text/x-python",
   "name": "python",
   "nbconvert_exporter": "python",
   "pygments_lexer": "ipython3",
   "version": "3.9.13"
  }
 },
 "nbformat": 4,
 "nbformat_minor": 5
}
